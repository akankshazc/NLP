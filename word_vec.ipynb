{
 "cells": [
  {
   "cell_type": "markdown",
   "id": "4d31da1b",
   "metadata": {},
   "source": [
    "# Word Vectors"
   ]
  },
  {
   "cell_type": "markdown",
   "id": "ff5b51bd",
   "metadata": {},
   "source": [
    "Before running this make sure you have the spacy `en_core_web_md` model downloaded into your virtual environment. its the medium sized model and its the one with word vectors in it. "
   ]
  },
  {
   "cell_type": "code",
   "execution_count": 1,
   "id": "7f33a7e4",
   "metadata": {},
   "outputs": [],
   "source": [
    "import spacy\n",
    "\n",
    "# Load the English NLP small model\n",
    "nlp = spacy.load(\"en_core_web_md\")\n",
    "\n",
    "# Open the text file and read its content\n",
    "with open(\"data/wiki_us.txt\", \"r\") as file:\n",
    "    text = file.read()\n",
    "\n",
    "# Process the text with spaCy\n",
    "doc = nlp(text)\n",
    "\n",
    "sentence1 = list(doc.sents)[0]  # First sentence in the document"
   ]
  },
  {
   "cell_type": "code",
   "execution_count": 2,
   "id": "25b1d1cc",
   "metadata": {},
   "outputs": [
    {
     "data": {
      "text/plain": [
       "The United States of America (U.S.A. or USA), commonly known as the United States (U.S. or US) or America, is a country primarily located in North America."
      ]
     },
     "execution_count": 2,
     "metadata": {},
     "output_type": "execute_result"
    }
   ],
   "source": [
    "sentence1 "
   ]
  },
  {
   "cell_type": "code",
   "execution_count": 20,
   "id": "f6dcd49f",
   "metadata": {},
   "outputs": [
    {
     "data": {
      "text/plain": [
       "array([-6.5276e-01,  2.3873e-01, -2.3325e-01,  1.8608e-01,  3.7674e-01,\n",
       "       -5.4116e-02, -1.9189e-01,  2.2731e-01, -9.2528e-02,  1.8388e+00,\n",
       "       -1.8715e-01, -2.2237e-01,  3.1873e-01,  1.1472e-01,  3.8304e-01,\n",
       "        2.0092e-01, -2.7932e-01,  2.3462e+00, -3.9846e-01, -1.9525e-01,\n",
       "       -2.5649e-01,  2.5508e-01,  9.4618e-02, -4.1082e-01, -3.4191e-01,\n",
       "       -1.9499e-01,  1.7814e-01,  5.3463e-03, -4.7565e-01,  2.8022e-01,\n",
       "       -2.1920e-01,  6.0433e-01,  2.9309e-01, -2.4232e-01,  5.2700e-01,\n",
       "        3.9024e-01, -5.6955e-01,  3.7620e-01, -2.3126e-01, -2.9921e-01,\n",
       "        4.5643e-02,  1.4555e-01,  1.4231e-01,  1.0587e-01,  4.1210e-01,\n",
       "       -2.5261e-01, -3.2090e-02, -5.2830e-01, -2.6925e-02,  2.6227e-01,\n",
       "        1.6375e-01,  9.9259e-02,  3.1664e-01, -1.1040e-01,  2.5732e-01,\n",
       "       -4.0720e-01, -6.9903e-02, -1.3189e-01, -5.5753e-01, -1.4815e-01,\n",
       "       -3.3673e-01, -3.6122e-01,  2.1905e-02,  6.8589e-01, -8.0151e-02,\n",
       "       -1.2327e-01, -5.0595e-02, -1.3694e-01,  2.7306e-01, -1.4885e-01,\n",
       "        4.5150e-03,  1.6709e-01,  8.8148e-02, -1.7480e-01, -1.2441e-01,\n",
       "        5.6394e-02,  1.4228e-01,  3.6865e-01,  5.9486e-02, -1.9471e-01,\n",
       "       -2.5575e-01,  2.2853e-01, -8.2876e-03,  2.0285e-02,  4.2212e-01,\n",
       "        1.3516e-01,  7.2635e-01,  3.8426e-01,  1.9571e-01, -1.8199e-01,\n",
       "        3.6326e-01, -5.9009e-01,  1.2660e-01, -2.7157e-01, -4.0160e-01,\n",
       "       -6.2389e-01,  7.8656e-01,  2.8767e-01,  5.0652e-01,  9.7881e-02,\n",
       "       -1.4708e-02,  2.3946e-01, -1.8723e-01,  4.1445e-01,  1.6650e-01,\n",
       "       -1.8899e+00,  3.5874e-01, -2.9300e-02, -7.1390e-02,  7.2308e-02,\n",
       "        6.5537e-02, -1.5800e-01,  8.0230e-02, -3.0899e-02,  1.9015e-01,\n",
       "       -1.4525e-02,  9.2995e-03, -4.5801e-01, -5.1586e-02, -4.5419e-02,\n",
       "        3.9683e-01, -2.5542e-01,  2.4292e-01, -3.0690e-01, -2.4360e-01,\n",
       "       -2.7307e-01,  1.4416e-01, -9.6950e-03, -5.7948e-01, -2.2177e-01,\n",
       "        9.3387e-02, -3.0545e-01, -7.1946e-02,  2.3493e-01,  7.2558e-01,\n",
       "        5.4868e-02, -2.7755e-01,  1.6177e-01, -3.9068e-01, -2.3836e-02,\n",
       "       -3.8402e-01,  2.9663e-02, -7.9789e-01, -2.6405e-01,  5.8656e-02,\n",
       "        1.4091e-01,  3.0928e-01,  1.4004e-01,  1.3282e-02,  2.1340e-01,\n",
       "       -3.4682e-01,  3.5323e-01,  2.9809e-01,  9.6521e-02, -2.2186e-02,\n",
       "       -1.5502e-01, -7.5963e-02,  1.0163e+00, -2.0319e-01, -4.8089e-01,\n",
       "        1.8526e-03,  3.0310e-01, -3.0456e-01, -2.9545e-01, -1.1845e-02,\n",
       "       -1.5618e-01,  2.7693e-01,  3.1751e-01,  3.6650e-01, -3.9038e-01,\n",
       "        4.2004e-01, -3.2852e-01, -6.7994e-02, -1.4249e-01, -1.3815e-01,\n",
       "       -1.0507e-01, -1.7883e-01, -3.8480e-01,  3.2119e-01, -1.8403e-01,\n",
       "       -5.3652e-02, -2.0844e-02, -7.6724e-01, -1.1748e-01, -7.7480e-02,\n",
       "        4.5177e-01,  9.6727e-02, -2.0082e-01, -1.9445e-01, -9.7588e-03,\n",
       "        3.0302e-01, -3.3607e-01,  2.3825e-01, -3.6793e-02, -1.5106e-01,\n",
       "       -8.4877e-02, -1.7448e-01, -1.5700e-01, -6.5094e-01,  1.4706e-02,\n",
       "        4.4220e-01,  8.0152e-03, -3.4658e-01,  2.3566e-01,  1.5767e-01,\n",
       "       -1.6591e-01, -2.4740e-01, -3.3408e-01, -1.9722e-01,  2.2875e-02,\n",
       "       -1.4465e-01, -2.1910e-01, -9.2784e-02, -4.1141e-01,  2.7569e-01,\n",
       "       -5.2462e-02, -1.1711e-01,  2.3524e-01,  1.3615e-01,  2.0582e-01,\n",
       "        3.3483e-04, -3.5967e-02, -4.2995e-01, -3.1407e-01,  2.7588e-01,\n",
       "       -2.0524e-01, -1.7360e-01, -8.1571e-02,  3.2323e-01,  2.3840e-01,\n",
       "        1.2790e-01, -4.0717e-01,  5.8714e-01,  3.2730e-01,  1.7860e-02,\n",
       "        1.1729e-01, -4.7061e-02, -7.8453e-02,  1.4081e-01, -1.5994e-01,\n",
       "       -1.4909e-01,  7.1805e-02, -3.7698e-02,  4.4769e-01,  1.6152e-01,\n",
       "       -8.2816e-02, -1.1207e-01, -3.8554e-02, -1.0233e-01,  6.8006e-02,\n",
       "        1.6570e-01, -1.8337e-01,  3.8589e-01,  5.7057e-03, -1.4620e-01,\n",
       "        1.2894e+00,  3.4140e-01,  1.6715e-01,  4.2835e-01, -1.0456e-01,\n",
       "       -3.0015e-01, -2.4827e-02,  2.5433e-01,  1.8072e-01,  2.6348e-01,\n",
       "       -6.7580e-02,  1.7232e-01, -7.1153e-02,  1.7512e-01, -2.7813e-02,\n",
       "        6.4046e-01, -2.7157e-01, -9.4352e-02, -2.2393e-01,  8.9257e-03,\n",
       "       -3.7729e-01, -4.0433e-02,  1.1951e-01, -2.2956e-01,  3.5904e-01,\n",
       "        4.1923e-02,  5.3552e-02, -1.4838e-01,  5.5642e-01, -1.1883e-01,\n",
       "        1.1237e-01,  3.3574e-04, -1.5964e-01,  1.9147e-01,  1.1882e-01,\n",
       "       -2.8518e-01, -7.7427e-02,  2.2063e-01, -2.9288e-01, -5.9751e-01,\n",
       "       -1.6613e-02, -2.1909e-02, -4.2636e-01,  4.8578e-01, -2.8969e-01],\n",
       "      dtype=float32)"
      ]
     },
     "execution_count": 20,
     "metadata": {},
     "output_type": "execute_result"
    }
   ],
   "source": [
    "sentence1[0].vector"
   ]
  },
  {
   "cell_type": "markdown",
   "id": "cc129552",
   "metadata": {},
   "source": [
    "# Word Similarity"
   ]
  },
  {
   "cell_type": "code",
   "execution_count": 8,
   "id": "f426c557",
   "metadata": {},
   "outputs": [
    {
     "name": "stdout",
     "output_type": "stream",
     "text": [
      "['SLUMS', 'inner-city', 'anti-poverty', 'Socioeconomic', 'INTERSECT', 'Divides', 'dropout', 'handicaps', 'drop-out', 'south-east']\n"
     ]
    }
   ],
   "source": [
    "import numpy as np\n",
    "\n",
    "our_word = \"country\"\n",
    "\n",
    "ms = nlp.vocab.vectors.most_similar(\n",
    "    np.asarray([nlp.vocab.vectors[nlp.vocab.strings[our_word]]]), n=10\n",
    ")\n",
    "\n",
    "words = [nlp.vocab.strings[w] for w in ms[0][0]]\n",
    "\n",
    "distances = ms[2]\n",
    "\n",
    "print(words)"
   ]
  },
  {
   "cell_type": "markdown",
   "id": "c7cd403a",
   "metadata": {},
   "source": [
    "why is this different from the example repo"
   ]
  },
  {
   "cell_type": "markdown",
   "id": "75b00bb8",
   "metadata": {},
   "source": [
    "# Document Similarity"
   ]
  },
  {
   "cell_type": "code",
   "execution_count": 9,
   "id": "02c68012",
   "metadata": {},
   "outputs": [
    {
     "name": "stdout",
     "output_type": "stream",
     "text": [
      "Similarity between the two sentences: 0.74\n"
     ]
    }
   ],
   "source": [
    "doc1 = nlp(\"I like salty fries and hamburgers\")\n",
    "doc2 = nlp(\"Fast food tastes very good\")\n",
    "\n",
    "similarity = doc1.similarity(doc2)\n",
    "\n",
    "print(f\"Similarity between the two sentences: {similarity:.2f}\")"
   ]
  },
  {
   "cell_type": "code",
   "execution_count": 12,
   "id": "3c162bed",
   "metadata": {},
   "outputs": [
    {
     "name": "stdout",
     "output_type": "stream",
     "text": [
      "Similarity between the first sentence and the third: 0.48\n"
     ]
    }
   ],
   "source": [
    "doc3 = nlp(\"The Empire State Building is in New York City\")\n",
    "\n",
    "similarity = doc1.similarity(doc3)\n",
    "\n",
    "print(f\"Similarity between the first sentence and the third: {similarity:.2f}\")"
   ]
  },
  {
   "cell_type": "code",
   "execution_count": 15,
   "id": "0756df8b",
   "metadata": {},
   "outputs": [
    {
     "name": "stdout",
     "output_type": "stream",
     "text": [
      "Similarity between the fourth and fifth sentences: 0.92\n"
     ]
    }
   ],
   "source": [
    "doc4 = nlp(\"I enjoy oranges\")\n",
    "doc5 = nlp(\"I enjoy apples\")\n",
    "\n",
    "similarity = doc4.similarity(doc5)\n",
    "\n",
    "print(f\"Similarity between the fourth and fifth sentences: {similarity:.2f}\")"
   ]
  },
  {
   "cell_type": "code",
   "execution_count": 18,
   "id": "d7c27972",
   "metadata": {},
   "outputs": [
    {
     "name": "stdout",
     "output_type": "stream",
     "text": [
      "Similarity between the fourth and sixth sentences: 0.72\n"
     ]
    }
   ],
   "source": [
    "doc6 = nlp(\"I enjoy Science Fiction movies\")\n",
    "\n",
    "similarity = doc4.similarity(doc6)\n",
    "\n",
    "print(f\"Similarity between the fourth and sixth sentences: {similarity:.2f}\")\n"
   ]
  },
  {
   "cell_type": "code",
   "execution_count": 17,
   "id": "6f5dcdc7",
   "metadata": {},
   "outputs": [
    {
     "name": "stdout",
     "output_type": "stream",
     "text": [
      "Similarity between the fourth and seventh sentences: 0.83\n"
     ]
    }
   ],
   "source": [
    "doc7 = nlp(\"I enjoy burgers\")\n",
    "\n",
    "similarity = doc4.similarity(doc7)\n",
    "\n",
    "print(f\"Similarity between the fourth and seventh sentences: {similarity:.2f}\")\n"
   ]
  },
  {
   "cell_type": "code",
   "execution_count": 19,
   "id": "881340e1",
   "metadata": {},
   "outputs": [
    {
     "name": "stdout",
     "output_type": "stream",
     "text": [
      "salty fries <-> hamburgers 0.5733411312103271\n"
     ]
    }
   ],
   "source": [
    "french_fries = doc1[2:4]\n",
    "burgers = doc1[5]\n",
    "print(french_fries, \"<->\", burgers, french_fries.similarity(burgers))"
   ]
  },
  {
   "cell_type": "code",
   "execution_count": null,
   "id": "13ae6f6f",
   "metadata": {},
   "outputs": [],
   "source": []
  }
 ],
 "metadata": {
  "kernelspec": {
   "display_name": "venv",
   "language": "python",
   "name": "python3"
  },
  "language_info": {
   "codemirror_mode": {
    "name": "ipython",
    "version": 3
   },
   "file_extension": ".py",
   "mimetype": "text/x-python",
   "name": "python",
   "nbconvert_exporter": "python",
   "pygments_lexer": "ipython3",
   "version": "3.13.0"
  }
 },
 "nbformat": 4,
 "nbformat_minor": 5
}
